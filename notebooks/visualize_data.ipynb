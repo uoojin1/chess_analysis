{
 "cells": [
  {
   "cell_type": "code",
   "execution_count": 1,
   "metadata": {},
   "outputs": [],
   "source": [
    "import chess.pgn\n",
    "from itertools import islice"
   ]
  },
  {
   "cell_type": "code",
   "execution_count": 35,
   "metadata": {},
   "outputs": [
    {
     "output_type": "stream",
     "name": "stdout",
     "text": "{'key': 'Event', 'value': '\"FICS rated standard game\"'}\n{'key': 'Site', 'value': '\"FICS freechess.org\"'}\n{'key': 'FICSGamesDBGameNo', 'value': '\"472001094\"'}\n{'key': 'White', 'value': '\"edclaudio\"'}\n{'key': 'Black', 'value': '\"edinei\"'}\n{'key': 'WhiteElo', 'value': '\"1370\"'}\n{'key': 'BlackElo', 'value': '\"1345\"'}\n{'key': 'WhiteRD', 'value': '\"81.6\"'}\n{'key': 'BlackRD', 'value': '\"111.4\"'}\n{'key': 'TimeControl', 'value': '\"3600+30\"'}\n{'key': 'Date', 'value': '\"2020.05.12\"'}\n{'key': 'Time', 'value': '\"19:07:00\"'}\n{'key': 'WhiteClock', 'value': '\"1:00:00.000\"'}\n{'key': 'BlackClock', 'value': '\"1:00:00.000\"'}\n{'key': 'ECO', 'value': '\"C41\"'}\n{'key': 'PlyCount', 'value': '\"165\"'}\n{'key': 'Result', 'value': '\"1-0\"'}\n{'moves': '1. e4 e5 2. Nf3 d6 3. h3 c6 4. Bc4 h6 5. Nc3 Nf6 6. d3 Qe7 7. Ne2 Be6 8. Bxe6 Qxe6 9. O-O Nbd7 10. a3 Be7 11. Ng3 g6 12. Be3 d5 13. Qc1 Bf8 14. b4 O-O-O 15. a4 Bxb4 16. Qb2 Qd6 17. Rab1 a5 18. c3 c5 19. cxb4 axb4 20. a5 Kc7 21. Ne2 d4 22. Bc1 Ra8 23. Ra1 Nb8 24. Bd2 Nc6 25. Qb3 Rhf8 26. Qc2 Kd7 27. Qc4 Nxa5 28. Qb5+ Qc6 29. Qxc6+ Nxc6 30. Bxh6 Rg8 31. Bg5 Na5 32. Bxf6 b3 33. Bg5 Rge8 34. Bd2 b2 35. Ra2 c4 36. Rxb2 cxd3 37. Ng3 Nc4 38. Rxb7+ Kc6 39. Rxf7 Red8 40. Rf6+ Rd6 41. Rxd6+ Kxd6 42. Bb4+ Kc6 43. Rc1 Kb5 44. Be7 d2 45. Rd1 Ra2 46. Bg5 Nb2 47. Rxd2 Ra1+ 48. Kh2 Rb1 49. Nxe5 Na4 50. Rxd4 Nc3 51. Rd6 Nd1 52. Nd7 Kc4 53. e5 Nxf2 54. e6 Re1 55. Nf8 Nd3 56. e7 Nc5 57. Rd8 Nb7 58. Rc8+ Kd5 59. e8=Q Rxe8 60. Rd8+ Nxd8 61. Nxg6 Nf7 62. Bd2 Nd6 63. Nh5 Ne4 64. Bc1 Kc4 65. Nhf4 Ng5 66. Ne2 Rxe2 67. Bxg5 Kc3 68. Kg3 Kc2 69. Kf3 Kd1 70. Nf4 Ra2 71. g3 Ra3+ 72. Kg4 Ke1 73. h4 Kf2 74. Nh5 Kg2 75. Bf4 Ra8 76. Nf6 Rf8 77. Kg5 Ra8 78. h5 Ra5+ 79. Kg6 Ra8 80. h6 Rh8 81. h7 Rxh7 82. Kxh7 Kf3 83. Be5 {Black forfeits by disconnection} 1-0'}\n"
    }
   ],
   "source": [
    "with open('../data/1200-1399/small_game.pgn', 'r') as games:\n",
    "    game_data = islice(games, 20)\n",
    "    for field in game_data:\n",
    "        field = field.strip()\n",
    "        # check if field is an empty string\n",
    "        if (field == None or field == ''):\n",
    "            continue\n",
    "        # check if the field is wrapped with []\n",
    "        if (field[0] == '[') and (field[-1] == ']'):\n",
    "            field = field[1:-1]\n",
    "            key_value = field.split(' ', 1)\n",
    "            print({\n",
    "                'key': key_value[0],\n",
    "                'value': key_value[1]\n",
    "            })\n",
    "        else:\n",
    "            print({ 'moves': field })\n",
    "    "
   ]
  },
  {
   "cell_type": "code",
   "execution_count": null,
   "metadata": {},
   "outputs": [],
   "source": []
  }
 ],
 "metadata": {
  "language_info": {
   "name": "python",
   "codemirror_mode": {
    "name": "ipython",
    "version": 3
   },
   "version": "3.7.4-final"
  },
  "orig_nbformat": 2,
  "file_extension": ".py",
  "mimetype": "text/x-python",
  "name": "python",
  "npconvert_exporter": "python",
  "pygments_lexer": "ipython3",
  "version": 3,
  "kernelspec": {
   "name": "python37464bitbasecondaa6c018941c5a40a88e5d11ac9ce800fa",
   "display_name": "Python 3.7.4 64-bit ('base': conda)"
  }
 },
 "nbformat": 4,
 "nbformat_minor": 2
}